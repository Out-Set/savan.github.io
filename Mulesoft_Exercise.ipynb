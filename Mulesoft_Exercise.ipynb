{
 "cells": [
  {
   "cell_type": "code",
   "execution_count": null,
   "id": "c2382ded",
   "metadata": {},
   "outputs": [],
   "source": [
    "#Creating database and Table\n",
    "\n",
    "import mysql.connector\n",
    "mydb=mysql.connector.connect(host='localhost',user='root',password='admin',database=\"Mulesoft_Exercise\")\n",
    "cur=mydb.cursor()\n",
    "\n",
    "s1=\"CREATE TABLE movie(Movie_Name varchar(20), Lead_Actor varchar(20), Lead_Actress varchar(20), Year_of_Release integer(4), Director varchar(20))\"\n",
    "\n",
    "cur.execute(s1)"
   ]
  },
  {
   "cell_type": "code",
   "execution_count": null,
   "id": "d28696c4",
   "metadata": {},
   "outputs": [],
   "source": [
    "#Inserting data\n",
    "\n",
    "import mysql.connector\n",
    "mydb=mysql.connector.connect(host='localhost',user='root',password='admin',database=\"Mulesoft_Exercise\")\n",
    "cur=mydb.cursor()\n",
    "\n",
    "s=\"INSERT INTO movie(Movie_Name, Lead_Actor, Lead_Actress, Year_of_Release, Director) values(%s,%s,%s,%s,%s)\"\n",
    "movies=[('Phir_Hera_Pheri','Akshay_Kumar','Vipasa_Basu',2006,'Neeraj_Vora'),\n",
    "       ('Lucy','Priyadarshan','Morgan Freeman',2014,'Luc Besson'),\n",
    "       ('Martian','Matt_Damon','Jessica Chastain',2015,'Sir Ridley Scott'),\n",
    "       ('Hangama','Akshaye_Khanna','Rimi_Sen',2003,'Priyadarshan'),\n",
    "       ('Krrish','Hritik_Roshan','Priyanka_Chopra',2006,'Rakesh_Roshan')]\n",
    "\n",
    "cur.executemany(s,movies)\n",
    "mydb.commit()"
   ]
  },
  {
   "cell_type": "code",
   "execution_count": null,
   "id": "d5010f3a",
   "metadata": {},
   "outputs": [],
   "source": [
    "#Extracting data\n",
    "\n",
    "import mysql.connector\n",
    "mydb=mysql.connector.connect(host='localhost',user='root',password='admin',database=\"Mulesoft_Exercise\")\n",
    "cur=mydb.cursor()\n",
    "\n",
    "s=\"SELECT * FROM movie\"\n",
    "cur.execute(s)\n",
    "\n",
    "result=cur.fetchall()\n",
    "for rec in result:\n",
    "    print(rec)"
   ]
  }
 ],
 "metadata": {
  "kernelspec": {
   "display_name": "Python 3",
   "language": "python",
   "name": "python3"
  },
  "language_info": {
   "codemirror_mode": {
    "name": "ipython",
    "version": 3
   },
   "file_extension": ".py",
   "mimetype": "text/x-python",
   "name": "python",
   "nbconvert_exporter": "python",
   "pygments_lexer": "ipython3",
   "version": "3.8.8"
  }
 },
 "nbformat": 4,
 "nbformat_minor": 5
}
